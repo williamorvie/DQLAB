{
  "nbformat": 4,
  "nbformat_minor": 0,
  "metadata": {
    "colab": {
      "name": "Data Science Project: Analisis Data COVID19 di Dunia & ASEAN.ipynb",
      "provenance": [],
      "collapsed_sections": []
    },
    "kernelspec": {
      "name": "python3",
      "display_name": "Python 3"
    },
    "language_info": {
      "name": "python"
    }
  },
  "cells": [
    {
      "cell_type": "code",
      "execution_count": null,
      "metadata": {
        "id": "TL7ntyRsFMCe"
      },
      "outputs": [],
      "source": [
        "#Library yang dibutuhkan\n",
        "\n",
        "import numpy as np\n",
        "import pandas as pd"
      ]
    },
    {
      "cell_type": "code",
      "source": [
        "#Membaca Data COVID-19 Dunia\n",
        "\n",
        "import numpy as np\n",
        "import pandas as pd\n",
        "pd.set_option(\"display.max_columns\", None)\n",
        "\n",
        "covid_url = \"https://dqlab.id/data/covid19_worldwide_2020.json\"\n",
        "df_covid_worldwide = pd.read_json(covid_url)\n",
        "\n",
        "print(\"Ukuran dataset: %d kolom dan %d baris.\\n\" % df_covid_worldwide.shape)\n",
        "print(\"Lima data teratas:\\n\", df_covid_worldwide.head())\n",
        "print(\"\\nLima data terbawah:\\n\", df_covid_worldwide.tail())\n"
      ],
      "metadata": {
        "colab": {
          "base_uri": "https://localhost:8080/"
        },
        "id": "1H8DdSXtGx6X",
        "outputId": "106a2a04-7f6b-41bd-da6d-e476d6965122"
      },
      "execution_count": null,
      "outputs": [
        {
          "output_type": "stream",
          "name": "stdout",
          "text": [
            "Ukuran dataset: 61900 kolom dan 6 baris.\n",
            "\n",
            "Lima data teratas:\n",
            "         date  daily_confirmed_cases  daily_deaths  confirmed_cases  deaths  \\\n",
            "0 2020-03-20                      1             0                1       0   \n",
            "1 2020-03-21                      0             0                1       0   \n",
            "2 2020-03-22                      1             0                2       0   \n",
            "3 2020-03-23                      0             0                2       0   \n",
            "4 2020-03-24                      0             0                2       0   \n",
            "\n",
            "  geo_id  \n",
            "0     TD  \n",
            "1     TD  \n",
            "2     TD  \n",
            "3     TD  \n",
            "4     TD  \n",
            "\n",
            "Lima data terbawah:\n",
            "             date  daily_confirmed_cases  daily_deaths  confirmed_cases  \\\n",
            "61895 2020-02-24                     57             1              691   \n",
            "61896 2020-02-26                      0             1              691   \n",
            "61897 2020-03-10                     -9             1              696   \n",
            "61898 2020-02-20                     79             2              621   \n",
            "61899 2020-02-29                      0             2              705   \n",
            "\n",
            "       deaths    geo_id  \n",
            "61895       3  JPG11668  \n",
            "61896       4  JPG11668  \n",
            "61897       7  JPG11668  \n",
            "61898       2  JPG11668  \n",
            "61899       6  JPG11668  \n"
          ]
        }
      ]
    },
    {
      "cell_type": "code",
      "source": [
        "#Reformat Data Frame COVID-19 Dunia\n",
        "\n",
        "import numpy as np\n",
        "import pandas as pd\n",
        "pd.set_option(\"display.max_columns\", None)\n",
        "\n",
        "covid_url = \"https://dqlab.id/data/covid19_worldwide_2020.json\"\n",
        "df_covid_worldwide = pd.read_json(covid_url)\n",
        "\n",
        "print(\"Informasi data frame awal:\")\n",
        "df_covid_worldwide.info()\n",
        "\n",
        "df_covid_worldwide = df_covid_worldwide.set_index(\"date\").sort_index()\n",
        "\n",
        "print(\"\\nInformasi data frame setelah set index kolom date:\")\n",
        "df_covid_worldwide.info()"
      ],
      "metadata": {
        "colab": {
          "base_uri": "https://localhost:8080/"
        },
        "id": "_hY91sBKHwQc",
        "outputId": "64c9a112-bafa-47f3-c1fa-dea75cb38996"
      },
      "execution_count": null,
      "outputs": [
        {
          "output_type": "stream",
          "name": "stdout",
          "text": [
            "Informasi data frame awal:\n",
            "<class 'pandas.core.frame.DataFrame'>\n",
            "Int64Index: 61900 entries, 0 to 61899\n",
            "Data columns (total 6 columns):\n",
            " #   Column                 Non-Null Count  Dtype         \n",
            "---  ------                 --------------  -----         \n",
            " 0   date                   61900 non-null  datetime64[ns]\n",
            " 1   daily_confirmed_cases  61900 non-null  int64         \n",
            " 2   daily_deaths           61900 non-null  int64         \n",
            " 3   confirmed_cases        61900 non-null  int64         \n",
            " 4   deaths                 61900 non-null  int64         \n",
            " 5   geo_id                 61625 non-null  object        \n",
            "dtypes: datetime64[ns](1), int64(4), object(1)\n",
            "memory usage: 3.3+ MB\n",
            "\n",
            "Informasi data frame setelah set index kolom date:\n",
            "<class 'pandas.core.frame.DataFrame'>\n",
            "DatetimeIndex: 61900 entries, 2019-12-31 to 2020-12-14\n",
            "Data columns (total 5 columns):\n",
            " #   Column                 Non-Null Count  Dtype \n",
            "---  ------                 --------------  ----- \n",
            " 0   daily_confirmed_cases  61900 non-null  int64 \n",
            " 1   daily_deaths           61900 non-null  int64 \n",
            " 2   confirmed_cases        61900 non-null  int64 \n",
            " 3   deaths                 61900 non-null  int64 \n",
            " 4   geo_id                 61625 non-null  object\n",
            "dtypes: int64(4), object(1)\n",
            "memory usage: 2.8+ MB\n"
          ]
        }
      ]
    },
    {
      "cell_type": "code",
      "source": [
        "#Missing Value di DataFrame COVID-19 Dunia\n",
        "\n",
        "import numpy as np\n",
        "import pandas as pd\n",
        "pd.set_option(\"display.max_columns\", None)\n",
        "\n",
        "covid_url = \"https://dqlab.id/data/covid19_worldwide_2020.json\"\n",
        "df_covid_worldwide = pd.read_json(covid_url)\n",
        "df_covid_worldwide = df_covid_worldwide.set_index(\"date\").sort_index()\n",
        "\n",
        "print(\"Jumlah missing value tiap kolom:\")\n",
        "print(df_covid_worldwide.isna().sum())\n",
        "\n",
        "df_covid_worldwide.dropna(inplace=True)\n",
        "\n",
        "print(\"\\nJumlah missing value tiap kolom setelah didrop:\")\n",
        "print(df_covid_worldwide.isna().sum())"
      ],
      "metadata": {
        "colab": {
          "base_uri": "https://localhost:8080/"
        },
        "id": "1a62lLsWH8iR",
        "outputId": "bc950069-e019-47e5-a6ed-2880b7fbdc46"
      },
      "execution_count": null,
      "outputs": [
        {
          "output_type": "stream",
          "name": "stdout",
          "text": [
            "Jumlah missing value tiap kolom:\n",
            "daily_confirmed_cases      0\n",
            "daily_deaths               0\n",
            "confirmed_cases            0\n",
            "deaths                     0\n",
            "geo_id                   275\n",
            "dtype: int64\n",
            "\n",
            "Jumlah missing value tiap kolom setelah didrop:\n",
            "daily_confirmed_cases    0\n",
            "daily_deaths             0\n",
            "confirmed_cases          0\n",
            "deaths                   0\n",
            "geo_id                   0\n",
            "dtype: int64\n"
          ]
        }
      ]
    },
    {
      "cell_type": "code",
      "source": [
        "#Membaca Data Countries\n",
        "\n",
        "import numpy as np\n",
        "import pandas as pd\n",
        "pd.set_option(\"display.max_columns\", None)\n",
        "\n",
        "countries_url = \"https://dqlab.id/data/country_details.json\"\n",
        "df_countries = pd.read_json(countries_url)\n",
        "print(df_countries.head())"
      ],
      "metadata": {
        "colab": {
          "base_uri": "https://localhost:8080/"
        },
        "id": "aEiTR6gMIwIi",
        "outputId": "ce1ddf85-574b-4fb3-8848-b6d83d86d626"
      },
      "execution_count": null,
      "outputs": [
        {
          "output_type": "stream",
          "name": "stdout",
          "text": [
            "  geo_id country_name\n",
            "0     TD         Chad\n",
            "1     CU         Cuba\n",
            "2     FJ         Fiji\n",
            "3     GU         Guam\n",
            "4     IR         Iran\n"
          ]
        }
      ]
    },
    {
      "cell_type": "code",
      "source": [
        "#Merge Covid19 Data dan Countries\n",
        "\n",
        "import numpy as np\n",
        "import pandas as pd\n",
        "pd.set_option(\"display.max_columns\", None)\n",
        "\n",
        "covid_url = \"https://dqlab.id/data/covid19_worldwide_2020.json\"\n",
        "df_covid_worldwide = pd.read_json(covid_url)\n",
        "df_covid_worldwide = df_covid_worldwide.set_index(\"date\").sort_index().dropna()\n",
        "\n",
        "countries_url = \"https://dqlab.id/data/country_details.json\"\n",
        "df_countries = pd.read_json(countries_url)\n",
        "\n",
        "df_covid_denormalized = pd.merge(df_covid_worldwide.reset_index(),df_countries,on=\"geo_id\").set_index(\"date\")\n",
        "print(df_covid_denormalized.head())"
      ],
      "metadata": {
        "colab": {
          "base_uri": "https://localhost:8080/"
        },
        "id": "N6u4nTo5Jx0Y",
        "outputId": "98a7b1b3-b22f-42cc-8421-5e4383605d1b"
      },
      "execution_count": null,
      "outputs": [
        {
          "output_type": "stream",
          "name": "stdout",
          "text": [
            "            daily_confirmed_cases  daily_deaths  confirmed_cases  deaths  \\\n",
            "date                                                                       \n",
            "2019-12-31                      0             0                0       0   \n",
            "2020-01-01                      0             0                0       0   \n",
            "2020-01-02                      0             0                0       0   \n",
            "2020-01-03                      0             0                0       0   \n",
            "2020-01-04                      0             0                0       0   \n",
            "\n",
            "           geo_id country_name  \n",
            "date                            \n",
            "2019-12-31     IN        India  \n",
            "2020-01-01     IN        India  \n",
            "2020-01-02     IN        India  \n",
            "2020-01-03     IN        India  \n",
            "2020-01-04     IN        India  \n"
          ]
        }
      ]
    },
    {
      "cell_type": "code",
      "source": [
        "#Menghitung Fatality Ratio\n",
        "\n",
        "import numpy as np\n",
        "import pandas as pd\n",
        "pd.set_option(\"display.max_columns\", None)\n",
        "\n",
        "covid_url = \"https://dqlab.id/data/covid19_worldwide_2020.json\"\n",
        "df_covid_worldwide = pd.read_json(covid_url)\n",
        "df_covid_worldwide = df_covid_worldwide.set_index(\"date\").sort_index().dropna()\n",
        "\n",
        "countries_url = \"https://dqlab.id/data/country_details.json\"\n",
        "df_countries = pd.read_json(countries_url)\n",
        "\n",
        "df_covid_denormalized = pd.merge(df_covid_worldwide.reset_index(), df_countries, on=\"geo_id\").set_index(\"date\")\n",
        "\n",
        "df_covid_denormalized[\"fatality_ratio\"] = df_covid_denormalized[\"deaths\"]/df_covid_denormalized[\"confirmed_cases\"]\n",
        "print(df_covid_denormalized.head())"
      ],
      "metadata": {
        "colab": {
          "base_uri": "https://localhost:8080/"
        },
        "id": "3ddbZBwoKdH5",
        "outputId": "80af9d76-312d-488c-ce8b-67f625c12f48"
      },
      "execution_count": null,
      "outputs": [
        {
          "output_type": "stream",
          "name": "stdout",
          "text": [
            "            daily_confirmed_cases  daily_deaths  confirmed_cases  deaths  \\\n",
            "date                                                                       \n",
            "2019-12-31                      0             0                0       0   \n",
            "2020-01-01                      0             0                0       0   \n",
            "2020-01-02                      0             0                0       0   \n",
            "2020-01-03                      0             0                0       0   \n",
            "2020-01-04                      0             0                0       0   \n",
            "\n",
            "           geo_id country_name  fatality_ratio  \n",
            "date                                            \n",
            "2019-12-31     IN        India             NaN  \n",
            "2020-01-01     IN        India             NaN  \n",
            "2020-01-02     IN        India             NaN  \n",
            "2020-01-03     IN        India             NaN  \n",
            "2020-01-04     IN        India             NaN  \n"
          ]
        }
      ]
    },
    {
      "cell_type": "code",
      "source": [
        "#Negara-negara dengan Fatality Ratio Tertinggi\n",
        "\n",
        "import numpy as np\n",
        "import pandas as pd\n",
        "pd.set_option(\"display.max_columns\", None)\n",
        "\n",
        "covid_url = \"https://dqlab.id/data/covid19_worldwide_2020.json\"\n",
        "df_covid_worldwide = pd.read_json(covid_url)\n",
        "df_covid_worldwide = df_covid_worldwide.set_index(\"date\").sort_index().dropna()\n",
        "\n",
        "countries_url = \"https://dqlab.id/data/country_details.json\"\n",
        "df_countries = pd.read_json(countries_url)\n",
        "\n",
        "df_covid_denormalized = pd.merge(df_covid_worldwide.reset_index(), df_countries, on=\"geo_id\").set_index(\"date\")\n",
        "\n",
        "df_covid_denormalized[\"fatality_ratio\"] = df_covid_denormalized[\"deaths\"]/df_covid_denormalized[\"confirmed_cases\"]\n",
        "\n",
        "df_top_20_fatality_rate = df_covid_denormalized.sort_values(\"fatality_ratio\", ascending=False).head(20)\n",
        "print(df_top_20_fatality_rate[[\"geo_id\",\"country_name\",\"fatality_ratio\"]])"
      ],
      "metadata": {
        "colab": {
          "base_uri": "https://localhost:8080/"
        },
        "id": "mU4K3xz0LT87",
        "outputId": "c986fc79-5876-41c1-80a8-817bcb76fcd7"
      },
      "execution_count": null,
      "outputs": [
        {
          "output_type": "stream",
          "name": "stdout",
          "text": [
            "           geo_id country_name  fatality_ratio\n",
            "date                                          \n",
            "2020-03-15     SD        Sudan             1.0\n",
            "2020-02-20     IR         Iran             1.0\n",
            "2020-03-16     GT    Guatemala             1.0\n",
            "2020-03-13     GY       Guyana             1.0\n",
            "2020-03-18     SD        Sudan             1.0\n",
            "2020-03-17     SD        Sudan             1.0\n",
            "2020-03-16     SD        Sudan             1.0\n",
            "2020-02-03     PH  Philippines             0.5\n",
            "2020-02-05     PH  Philippines             0.5\n",
            "2020-02-04     PH  Philippines             0.5\n",
            "2020-03-28     NI    Nicaragua             0.5\n",
            "2020-02-02     PH  Philippines             0.5\n",
            "2020-03-24     ZW     Zimbabwe             0.5\n",
            "2020-03-24     GM       Gambia             0.5\n",
            "2020-03-19     SD        Sudan             0.5\n",
            "2020-03-20     SD        Sudan             0.5\n",
            "2020-03-21     SD        Sudan             0.5\n",
            "2020-03-22     SD        Sudan             0.5\n",
            "2020-03-23     SD        Sudan             0.5\n",
            "2020-03-24     SD        Sudan             0.5\n"
          ]
        }
      ]
    },
    {
      "cell_type": "code",
      "source": [
        "#Kondisi Fatality ratio Tertinggi di Bulan Agustus 2020\n",
        "\n",
        "import numpy as np\n",
        "import pandas as pd\n",
        "pd.set_option(\"display.max_columns\", None)\n",
        "\n",
        "covid_url = \"https://dqlab.id/data/covid19_worldwide_2020.json\"\n",
        "df_covid_worldwide = pd.read_json(covid_url)\n",
        "df_covid_worldwide = df_covid_worldwide.set_index(\"date\").sort_index().dropna()\n",
        "\n",
        "countries_url = \"https://dqlab.id/data/country_details.json\"\n",
        "df_countries = pd.read_json(countries_url)\n",
        "\n",
        "df_covid_denormalized = pd.merge(df_covid_worldwide.reset_index(), df_countries, on=\"geo_id\").set_index(\"date\")\n",
        "\n",
        "df_covid_denormalized_august = df_covid_denormalized.loc[\"2020-08\"].groupby(\"country_name\").sum()\n",
        "\n",
        "df_covid_denormalized_august[\"fatality_ratio\"] = df_covid_denormalized_august[\"deaths\"]/df_covid_denormalized_august[\"confirmed_cases\"]\n",
        "\n",
        "df_top_20_fatality_rate_on_august = df_covid_denormalized_august.sort_values(by=\"fatality_ratio\", ascending=False).head(20)\n",
        "print(df_top_20_fatality_rate_on_august[\"fatality_ratio\"])"
      ],
      "metadata": {
        "colab": {
          "base_uri": "https://localhost:8080/"
        },
        "id": "KYfhGoc0Mepu",
        "outputId": "cf1fed1a-cabb-4fd2-a817-3f6fa2a9900b"
      },
      "execution_count": null,
      "outputs": [
        {
          "output_type": "stream",
          "name": "stdout",
          "text": [
            "country_name\n",
            "Yemen                     0.286473\n",
            "Italy                     0.138619\n",
            "France                    0.137979\n",
            "United_Kingdom            0.130228\n",
            "Belgium                   0.125079\n",
            "Hungary                   0.122820\n",
            "Netherlands               0.099309\n",
            "Mexico                    0.099092\n",
            "Jersey                    0.088677\n",
            "Spain                     0.079746\n",
            "Chad                      0.078870\n",
            "Montserrat                0.076923\n",
            "Canada                    0.073963\n",
            "Sweden                    0.071475\n",
            "Isle_of_Man               0.071429\n",
            "British_Virgin_Islands    0.066239\n",
            "Ireland                   0.065030\n",
            "Sudan                     0.064250\n",
            "Liberia                   0.063944\n",
            "Ecuador                   0.061031\n",
            "Name: fatality_ratio, dtype: float64\n"
          ]
        }
      ]
    },
    {
      "cell_type": "code",
      "source": [
        "#Visualisasi Negara dengan Fatality Ratio Tertinggi di Bulan Agustus 2020\n",
        "\n",
        "import numpy as np\n",
        "import pandas as pd\n",
        "pd.set_option(\"display.max_columns\", None)\n",
        "\n",
        "covid_url = \"https://dqlab.id/data/covid19_worldwide_2020.json\"\n",
        "df_covid_worldwide = pd.read_json(covid_url)\n",
        "df_covid_worldwide = df_covid_worldwide.set_index(\"date\").sort_index().dropna()\n",
        "\n",
        "countries_url = \"https://dqlab.id/data/country_details.json\"\n",
        "df_countries = pd.read_json(countries_url)\n",
        "\n",
        "df_covid_denormalized = pd.merge(df_covid_worldwide.reset_index(), df_countries, on=\"geo_id\").set_index(\"date\")\n",
        "\n",
        "df_covid_denormalized_august = df_covid_denormalized.loc[\"2020-08\"].groupby(\"country_name\").sum()\n",
        "\n",
        "df_covid_denormalized_august[\"fatality_ratio\"] = df_covid_denormalized_august[\"deaths\"]/df_covid_denormalized_august[\"confirmed_cases\"]\n",
        "\n",
        "df_top_20_fatality_rate_on_august = df_covid_denormalized_august.sort_values(\"fatality_ratio\", ascending=False).head(20)\n",
        "\n",
        "# Visulisasi\n",
        "import matplotlib.pyplot as plt\n",
        "plt.figure(figsize=(8,8))\n",
        "df_top_20_fatality_rate_on_august[\"fatality_ratio\"].sort_values().plot(kind=\"barh\", color=\"coral\")\n",
        "plt.title(\"Top 20 Highest Fatality Rate Countries\", fontsize=18, color=\"b\")\n",
        "plt.xlabel(\"Fatality Rate\", fontsize=14)\n",
        "plt.ylabel(\"Country Name\", fontsize=14)\n",
        "plt.grid(axis=\"x\")\n",
        "plt.tight_layout()\n",
        "plt.show()"
      ],
      "metadata": {
        "colab": {
          "base_uri": "https://localhost:8080/",
          "height": 585
        },
        "id": "NxCcWjopNgF8",
        "outputId": "8d397cfa-e26b-4050-9c4a-9e63c901f1a8"
      },
      "execution_count": null,
      "outputs": [
        {
          "output_type": "display_data",
          "data": {
            "image/png": "[encoded data removed]",
            "text/plain": [
              "<Figure size 576x576 with 1 Axes>"
            ]
          },
          "metadata": {
            "needs_background": "light"
          }
        }
      ]
    },
    {
      "cell_type": "code",
      "source": [
        "#Data Frame Kasus COVID-19 ASEAN\n",
        "\n",
        "import numpy as np\n",
        "import pandas as pd\n",
        "pd.set_option(\"display.max_columns\", None)\n",
        "\n",
        "covid_url = \"https://dqlab.id/data/covid19_worldwide_2020.json\"\n",
        "df_covid_worldwide = pd.read_json(covid_url)\n",
        "df_covid_worldwide = df_covid_worldwide.set_index(\"date\").sort_index().dropna()\n",
        "\n",
        "countries_url = \"https://dqlab.id/data/country_details.json\"\n",
        "df_countries = pd.read_json(countries_url)\n",
        "\n",
        "df_covid_denormalized = pd.merge(df_covid_worldwide.reset_index(), df_countries, on=\"geo_id\").set_index(\"date\")\n",
        "\n",
        "asean_country_id = [\"ID\", \"MY\", \"SG\", \"TH\", \"VN\"]\n",
        "filter_list = [(df_covid_denormalized[\"geo_id\"]==country_id).to_numpy() for country_id in asean_country_id]\n",
        "filter_array = np.column_stack(filter_list).sum(axis=1, dtype=\"bool\")\n",
        "df_covid_denormalized_asean = df_covid_denormalized[filter_array].sort_index()\n",
        "\n",
        "print(\"Cek nilai unik di kolom 'country_name':\", df_covid_denormalized_asean[\"country_name\"].unique())\n",
        "print(df_covid_denormalized_asean.head())"
      ],
      "metadata": {
        "colab": {
          "base_uri": "https://localhost:8080/"
        },
        "id": "MWsmIuBZNpJ4",
        "outputId": "69e526b2-e43c-4df3-9a48-de38206682f7"
      },
      "execution_count": null,
      "outputs": [
        {
          "output_type": "stream",
          "name": "stdout",
          "text": [
            "Cek nilai unik di kolom 'country_name': ['Malaysia' 'Vietnam' 'Thailand' 'Singapore' 'Indonesia']\n",
            "            daily_confirmed_cases  daily_deaths  confirmed_cases  deaths  \\\n",
            "date                                                                       \n",
            "2019-12-31                      0             0                0       0   \n",
            "2019-12-31                      0             0                0       0   \n",
            "2019-12-31                      0             0                0       0   \n",
            "2019-12-31                      0             0                0       0   \n",
            "2019-12-31                      0             0                0       0   \n",
            "\n",
            "           geo_id country_name  \n",
            "date                            \n",
            "2019-12-31     MY     Malaysia  \n",
            "2019-12-31     VN      Vietnam  \n",
            "2019-12-31     TH     Thailand  \n",
            "2019-12-31     SG    Singapore  \n",
            "2019-12-31     ID    Indonesia  \n"
          ]
        }
      ]
    },
    {
      "cell_type": "code",
      "source": [
        "#Kapankah Kasus Pertama COVID-19 di ASEAN\n",
        "\n",
        "import numpy as np\n",
        "import pandas as pd\n",
        "pd.set_option(\"display.max_columns\", None)\n",
        "\n",
        "covid_url = \"https://dqlab.id/data/covid19_worldwide_2020.json\"\n",
        "df_covid_worldwide = pd.read_json(covid_url)\n",
        "df_covid_worldwide = df_covid_worldwide.set_index(\"date\").sort_index().dropna()\n",
        "\n",
        "countries_url = \"https://dqlab.id/data/country_details.json\"\n",
        "df_countries = pd.read_json(countries_url)\n",
        "\n",
        "df_covid_denormalized = pd.merge(df_covid_worldwide.reset_index(), df_countries, on=\"geo_id\").set_index(\"date\")\n",
        "\n",
        "asean_country_id = [\"ID\", \"MY\", \"SG\", \"TH\", \"VN\"]\n",
        "filter_list = [(df_covid_denormalized[\"geo_id\"]==country_id).to_numpy() for country_id in asean_country_id]\n",
        "filter_array = np.column_stack(filter_list).sum(axis=1, dtype=\"bool\")\n",
        "df_covid_denormalized_asean = df_covid_denormalized[filter_array].sort_index()\n",
        "\n",
        "print(\"The first case popped up in each of 5 ASEAN countries:\")\n",
        "for country_id in asean_country_id:\n",
        "    asean_country = df_covid_denormalized_asean[df_covid_denormalized_asean[\"geo_id\"]==country_id]\n",
        "    first_case = asean_country[asean_country[\"confirmed_cases\"]>0][[\"confirmed_cases\",\"geo_id\",\"country_name\"]]\n",
        "    print(first_case.head(1))"
      ],
      "metadata": {
        "colab": {
          "base_uri": "https://localhost:8080/"
        },
        "id": "NzNc6ZVHOl9X",
        "outputId": "53b12d31-5a0a-4cec-f6cf-21f842f1e0dc"
      },
      "execution_count": null,
      "outputs": [
        {
          "output_type": "stream",
          "name": "stdout",
          "text": [
            "The first case popped up in each of 5 ASEAN countries:\n",
            "            confirmed_cases geo_id country_name\n",
            "date                                           \n",
            "2020-03-02                2     ID    Indonesia\n",
            "            confirmed_cases geo_id country_name\n",
            "date                                           \n",
            "2020-01-25                3     MY     Malaysia\n",
            "            confirmed_cases geo_id country_name\n",
            "date                                           \n",
            "2020-01-24                3     SG    Singapore\n",
            "            confirmed_cases geo_id country_name\n",
            "date                                           \n",
            "2020-01-13                1     TH     Thailand\n",
            "            confirmed_cases geo_id country_name\n",
            "date                                           \n",
            "2020-01-24                2     VN      Vietnam\n"
          ]
        }
      ]
    },
    {
      "cell_type": "code",
      "source": [
        "#Kasus Covid-19 di ASEAN mulai Bulan Maret 2020\n",
        "\n",
        "import numpy as np\n",
        "import pandas as pd\n",
        "pd.set_option(\"display.max_columns\", None)\n",
        "\n",
        "covid_url = \"https://dqlab.id/data/covid19_worldwide_2020.json\"\n",
        "df_covid_worldwide = pd.read_json(covid_url)\n",
        "df_covid_worldwide = df_covid_worldwide.set_index(\"date\").sort_index().dropna()\n",
        "\n",
        "countries_url = \"https://dqlab.id/data/country_details.json\"\n",
        "df_countries = pd.read_json(countries_url)\n",
        "\n",
        "df_covid_denormalized = pd.merge(df_covid_worldwide.reset_index(), df_countries, on=\"geo_id\").set_index(\"date\")\n",
        "\n",
        "asean_country_id = [\"ID\", \"MY\", \"SG\", \"TH\", \"VN\"]\n",
        "filter_list = [(df_covid_denormalized[\"geo_id\"]==country_id).to_numpy() for country_id in asean_country_id]\n",
        "filter_array = np.column_stack(filter_list).sum(axis=1, dtype=\"bool\")\n",
        "df_covid_denormalized_asean = df_covid_denormalized[filter_array].sort_index()\n",
        "\n",
        "df_covid_denormalized_asean_march_onward = df_covid_denormalized_asean[df_covid_denormalized_asean.index>=\"2020-03-01\"]\n",
        "print(df_covid_denormalized_asean_march_onward.head())"
      ],
      "metadata": {
        "colab": {
          "base_uri": "https://localhost:8080/"
        },
        "id": "AK_DWwKcO-2z",
        "outputId": "5964e6b8-e5ff-4b2f-dfd3-0b9684de996f"
      },
      "execution_count": null,
      "outputs": [
        {
          "output_type": "stream",
          "name": "stdout",
          "text": [
            "            daily_confirmed_cases  daily_deaths  confirmed_cases  deaths  \\\n",
            "date                                                                       \n",
            "2020-03-01                      0             1               42       1   \n",
            "2020-03-01                      4             0              102       0   \n",
            "2020-03-01                      0             0               16       0   \n",
            "2020-03-01                      0             0                0       0   \n",
            "2020-03-01                      0             0               25       0   \n",
            "\n",
            "           geo_id country_name  \n",
            "date                            \n",
            "2020-03-01     TH     Thailand  \n",
            "2020-03-01     SG    Singapore  \n",
            "2020-03-01     VN      Vietnam  \n",
            "2020-03-01     ID    Indonesia  \n",
            "2020-03-01     MY     Malaysia  \n"
          ]
        }
      ]
    },
    {
      "cell_type": "code",
      "source": [
        "#Visualisasi Kasus COVID-19 di ASEAN\n",
        "\n",
        "import numpy as np\n",
        "import pandas as pd\n",
        "pd.set_option(\"display.max_columns\", None)\n",
        "\n",
        "covid_url = \"https://dqlab.id/data/covid19_worldwide_2020.json\"\n",
        "df_covid_worldwide = pd.read_json(covid_url)\n",
        "df_covid_worldwide = df_covid_worldwide.set_index(\"date\").sort_index().dropna()\n",
        "\n",
        "countries_url = \"https://dqlab.id/data/country_details.json\"\n",
        "df_countries = pd.read_json(countries_url)\n",
        "\n",
        "df_covid_denormalized = pd.merge(df_covid_worldwide.reset_index(), df_countries, on=\"geo_id\").set_index(\"date\")\n",
        "\n",
        "asean_country_id = [\"ID\", \"MY\", \"SG\", \"TH\", \"VN\"]\n",
        "filter_list = [(df_covid_denormalized[\"geo_id\"]==country_id).to_numpy() for country_id in asean_country_id]\n",
        "filter_array = np.column_stack(filter_list).sum(axis=1, dtype=\"bool\")\n",
        "df_covid_denormalized_asean = df_covid_denormalized[filter_array].sort_index()\n",
        "\n",
        "df_covid_denormalized_asean_march_onward = df_covid_denormalized_asean[df_covid_denormalized_asean.index>=\"2020-03-01\"]\n",
        "\n",
        "import matplotlib.pyplot as plt\n",
        "import seaborn as sns\n",
        "plt.figure(figsize=(16,6))\n",
        "sns.lineplot(data=df_covid_denormalized_asean_march_onward, \n",
        "             x=df_covid_denormalized_asean_march_onward.index, \n",
        "             y=\"confirmed_cases\", \n",
        "             hue=\"country_name\",\n",
        "             linewidth=2)\n",
        "plt.xlabel('Record Date', fontsize=14)\n",
        "plt.ylabel('Total Cases', fontsize=14)\n",
        "plt.title('Comparison of COVID19 Cases in 5 ASEAN Countries', color=\"b\", fontsize=18)\n",
        "plt.grid()\n",
        "plt.tight_layout()\n",
        "plt.show()"
      ],
      "metadata": {
        "id": "oO2pyFKDPlHA",
        "outputId": "dcb879c3-862b-4eda-ed93-a13c834f3649",
        "colab": {
          "base_uri": "https://localhost:8080/",
          "height": 737
        }
      },
      "execution_count": null,
      "outputs": [
        {
          "output_type": "error",
          "ename": "ValueError",
          "evalue": "ignored",
          "traceback": [
            "\u001b[0;31m---------------------------------------------------------------------------\u001b[0m",
            "\u001b[0;31mValueError\u001b[0m                                Traceback (most recent call last)",
            "\u001b[0;32m<ipython-input-15-b2d857e1941c>\u001b[0m in \u001b[0;36m<module>\u001b[0;34m()\u001b[0m\n\u001b[1;32m     28\u001b[0m              \u001b[0my\u001b[0m\u001b[0;34m=\u001b[0m\u001b[0;34m\"confirmed_cases\"\u001b[0m\u001b[0;34m,\u001b[0m\u001b[0;34m\u001b[0m\u001b[0;34m\u001b[0m\u001b[0m\n\u001b[1;32m     29\u001b[0m              \u001b[0mhue\u001b[0m\u001b[0;34m=\u001b[0m\u001b[0;34m\"country_name\"\u001b[0m\u001b[0;34m,\u001b[0m\u001b[0;34m\u001b[0m\u001b[0;34m\u001b[0m\u001b[0m\n\u001b[0;32m---> 30\u001b[0;31m              linewidth=2)\n\u001b[0m\u001b[1;32m     31\u001b[0m \u001b[0mplt\u001b[0m\u001b[0;34m.\u001b[0m\u001b[0mxlabel\u001b[0m\u001b[0;34m(\u001b[0m\u001b[0;34m'Record Date'\u001b[0m\u001b[0;34m,\u001b[0m \u001b[0mfontsize\u001b[0m\u001b[0;34m=\u001b[0m\u001b[0;36m14\u001b[0m\u001b[0;34m)\u001b[0m\u001b[0;34m\u001b[0m\u001b[0;34m\u001b[0m\u001b[0m\n\u001b[1;32m     32\u001b[0m \u001b[0mplt\u001b[0m\u001b[0;34m.\u001b[0m\u001b[0mylabel\u001b[0m\u001b[0;34m(\u001b[0m\u001b[0;34m'Total Cases'\u001b[0m\u001b[0;34m,\u001b[0m \u001b[0mfontsize\u001b[0m\u001b[0;34m=\u001b[0m\u001b[0;36m14\u001b[0m\u001b[0;34m)\u001b[0m\u001b[0;34m\u001b[0m\u001b[0;34m\u001b[0m\u001b[0m\n",
            "\u001b[0;32m/usr/local/lib/python3.7/dist-packages/seaborn/_decorators.py\u001b[0m in \u001b[0;36minner_f\u001b[0;34m(*args, **kwargs)\u001b[0m\n\u001b[1;32m     44\u001b[0m             )\n\u001b[1;32m     45\u001b[0m         \u001b[0mkwargs\u001b[0m\u001b[0;34m.\u001b[0m\u001b[0mupdate\u001b[0m\u001b[0;34m(\u001b[0m\u001b[0;34m{\u001b[0m\u001b[0mk\u001b[0m\u001b[0;34m:\u001b[0m \u001b[0marg\u001b[0m \u001b[0;32mfor\u001b[0m \u001b[0mk\u001b[0m\u001b[0;34m,\u001b[0m \u001b[0marg\u001b[0m \u001b[0;32min\u001b[0m \u001b[0mzip\u001b[0m\u001b[0;34m(\u001b[0m\u001b[0msig\u001b[0m\u001b[0;34m.\u001b[0m\u001b[0mparameters\u001b[0m\u001b[0;34m,\u001b[0m \u001b[0margs\u001b[0m\u001b[0;34m)\u001b[0m\u001b[0;34m}\u001b[0m\u001b[0;34m)\u001b[0m\u001b[0;34m\u001b[0m\u001b[0;34m\u001b[0m\u001b[0m\n\u001b[0;32m---> 46\u001b[0;31m         \u001b[0;32mreturn\u001b[0m \u001b[0mf\u001b[0m\u001b[0;34m(\u001b[0m\u001b[0;34m**\u001b[0m\u001b[0mkwargs\u001b[0m\u001b[0;34m)\u001b[0m\u001b[0;34m\u001b[0m\u001b[0;34m\u001b[0m\u001b[0m\n\u001b[0m\u001b[1;32m     47\u001b[0m     \u001b[0;32mreturn\u001b[0m \u001b[0minner_f\u001b[0m\u001b[0;34m\u001b[0m\u001b[0;34m\u001b[0m\u001b[0m\n\u001b[1;32m     48\u001b[0m \u001b[0;34m\u001b[0m\u001b[0m\n",
            "\u001b[0;32m/usr/local/lib/python3.7/dist-packages/seaborn/relational.py\u001b[0m in \u001b[0;36mlineplot\u001b[0;34m(x, y, hue, size, style, data, palette, hue_order, hue_norm, sizes, size_order, size_norm, dashes, markers, style_order, units, estimator, ci, n_boot, seed, sort, err_style, err_kws, legend, ax, **kwargs)\u001b[0m\n\u001b[1;32m    708\u001b[0m     \u001b[0mp\u001b[0m\u001b[0;34m.\u001b[0m\u001b[0m_attach\u001b[0m\u001b[0;34m(\u001b[0m\u001b[0max\u001b[0m\u001b[0;34m)\u001b[0m\u001b[0;34m\u001b[0m\u001b[0;34m\u001b[0m\u001b[0m\n\u001b[1;32m    709\u001b[0m \u001b[0;34m\u001b[0m\u001b[0m\n\u001b[0;32m--> 710\u001b[0;31m     \u001b[0mp\u001b[0m\u001b[0;34m.\u001b[0m\u001b[0mplot\u001b[0m\u001b[0;34m(\u001b[0m\u001b[0max\u001b[0m\u001b[0;34m,\u001b[0m \u001b[0mkwargs\u001b[0m\u001b[0;34m)\u001b[0m\u001b[0;34m\u001b[0m\u001b[0;34m\u001b[0m\u001b[0m\n\u001b[0m\u001b[1;32m    711\u001b[0m     \u001b[0;32mreturn\u001b[0m \u001b[0max\u001b[0m\u001b[0;34m\u001b[0m\u001b[0;34m\u001b[0m\u001b[0m\n\u001b[1;32m    712\u001b[0m \u001b[0;34m\u001b[0m\u001b[0m\n",
            "\u001b[0;32m/usr/local/lib/python3.7/dist-packages/seaborn/relational.py\u001b[0m in \u001b[0;36mplot\u001b[0;34m(self, ax, kws)\u001b[0m\n\u001b[1;32m    469\u001b[0m         \u001b[0;31m# Loop over the semantic subsets and add to the plot\u001b[0m\u001b[0;34m\u001b[0m\u001b[0;34m\u001b[0m\u001b[0;34m\u001b[0m\u001b[0m\n\u001b[1;32m    470\u001b[0m         \u001b[0mgrouping_vars\u001b[0m \u001b[0;34m=\u001b[0m \u001b[0;34m\"hue\"\u001b[0m\u001b[0;34m,\u001b[0m \u001b[0;34m\"size\"\u001b[0m\u001b[0;34m,\u001b[0m \u001b[0;34m\"style\"\u001b[0m\u001b[0;34m\u001b[0m\u001b[0;34m\u001b[0m\u001b[0m\n\u001b[0;32m--> 471\u001b[0;31m         \u001b[0;32mfor\u001b[0m \u001b[0msub_vars\u001b[0m\u001b[0;34m,\u001b[0m \u001b[0msub_data\u001b[0m \u001b[0;32min\u001b[0m \u001b[0mself\u001b[0m\u001b[0;34m.\u001b[0m\u001b[0miter_data\u001b[0m\u001b[0;34m(\u001b[0m\u001b[0mgrouping_vars\u001b[0m\u001b[0;34m,\u001b[0m \u001b[0mfrom_comp_data\u001b[0m\u001b[0;34m=\u001b[0m\u001b[0;32mTrue\u001b[0m\u001b[0;34m)\u001b[0m\u001b[0;34m:\u001b[0m\u001b[0;34m\u001b[0m\u001b[0;34m\u001b[0m\u001b[0m\n\u001b[0m\u001b[1;32m    472\u001b[0m \u001b[0;34m\u001b[0m\u001b[0m\n\u001b[1;32m    473\u001b[0m             \u001b[0;32mif\u001b[0m \u001b[0mself\u001b[0m\u001b[0;34m.\u001b[0m\u001b[0msort\u001b[0m\u001b[0;34m:\u001b[0m\u001b[0;34m\u001b[0m\u001b[0;34m\u001b[0m\u001b[0m\n",
            "\u001b[0;32m/usr/local/lib/python3.7/dist-packages/seaborn/_core.py\u001b[0m in \u001b[0;36miter_data\u001b[0;34m(self, grouping_vars, reverse, from_comp_data)\u001b[0m\n\u001b[1;32m    981\u001b[0m \u001b[0;34m\u001b[0m\u001b[0m\n\u001b[1;32m    982\u001b[0m         \u001b[0;32mif\u001b[0m \u001b[0mfrom_comp_data\u001b[0m\u001b[0;34m:\u001b[0m\u001b[0;34m\u001b[0m\u001b[0;34m\u001b[0m\u001b[0m\n\u001b[0;32m--> 983\u001b[0;31m             \u001b[0mdata\u001b[0m \u001b[0;34m=\u001b[0m \u001b[0mself\u001b[0m\u001b[0;34m.\u001b[0m\u001b[0mcomp_data\u001b[0m\u001b[0;34m\u001b[0m\u001b[0;34m\u001b[0m\u001b[0m\n\u001b[0m\u001b[1;32m    984\u001b[0m         \u001b[0;32melse\u001b[0m\u001b[0;34m:\u001b[0m\u001b[0;34m\u001b[0m\u001b[0;34m\u001b[0m\u001b[0m\n\u001b[1;32m    985\u001b[0m             \u001b[0mdata\u001b[0m \u001b[0;34m=\u001b[0m \u001b[0mself\u001b[0m\u001b[0;34m.\u001b[0m\u001b[0mplot_data\u001b[0m\u001b[0;34m\u001b[0m\u001b[0;34m\u001b[0m\u001b[0m\n",
            "\u001b[0;32m/usr/local/lib/python3.7/dist-packages/seaborn/_core.py\u001b[0m in \u001b[0;36mcomp_data\u001b[0;34m(self)\u001b[0m\n\u001b[1;32m   1055\u001b[0m                     \u001b[0morig\u001b[0m \u001b[0;34m=\u001b[0m \u001b[0mself\u001b[0m\u001b[0;34m.\u001b[0m\u001b[0mplot_data\u001b[0m\u001b[0;34m[\u001b[0m\u001b[0mvar\u001b[0m\u001b[0;34m]\u001b[0m\u001b[0;34m.\u001b[0m\u001b[0mdropna\u001b[0m\u001b[0;34m(\u001b[0m\u001b[0;34m)\u001b[0m\u001b[0;34m\u001b[0m\u001b[0;34m\u001b[0m\u001b[0m\n\u001b[1;32m   1056\u001b[0m                 \u001b[0mcomp_col\u001b[0m \u001b[0;34m=\u001b[0m \u001b[0mpd\u001b[0m\u001b[0;34m.\u001b[0m\u001b[0mSeries\u001b[0m\u001b[0;34m(\u001b[0m\u001b[0mindex\u001b[0m\u001b[0;34m=\u001b[0m\u001b[0morig\u001b[0m\u001b[0;34m.\u001b[0m\u001b[0mindex\u001b[0m\u001b[0;34m,\u001b[0m \u001b[0mdtype\u001b[0m\u001b[0;34m=\u001b[0m\u001b[0mfloat\u001b[0m\u001b[0;34m,\u001b[0m \u001b[0mname\u001b[0m\u001b[0;34m=\u001b[0m\u001b[0mvar\u001b[0m\u001b[0;34m)\u001b[0m\u001b[0;34m\u001b[0m\u001b[0;34m\u001b[0m\u001b[0m\n\u001b[0;32m-> 1057\u001b[0;31m                 \u001b[0mcomp_col\u001b[0m\u001b[0;34m.\u001b[0m\u001b[0mloc\u001b[0m\u001b[0;34m[\u001b[0m\u001b[0morig\u001b[0m\u001b[0;34m.\u001b[0m\u001b[0mindex\u001b[0m\u001b[0;34m]\u001b[0m \u001b[0;34m=\u001b[0m \u001b[0mpd\u001b[0m\u001b[0;34m.\u001b[0m\u001b[0mto_numeric\u001b[0m\u001b[0;34m(\u001b[0m\u001b[0maxis\u001b[0m\u001b[0;34m.\u001b[0m\u001b[0mconvert_units\u001b[0m\u001b[0;34m(\u001b[0m\u001b[0morig\u001b[0m\u001b[0;34m)\u001b[0m\u001b[0;34m)\u001b[0m\u001b[0;34m\u001b[0m\u001b[0;34m\u001b[0m\u001b[0m\n\u001b[0m\u001b[1;32m   1058\u001b[0m \u001b[0;34m\u001b[0m\u001b[0m\n\u001b[1;32m   1059\u001b[0m                 \u001b[0;32mif\u001b[0m \u001b[0maxis\u001b[0m\u001b[0;34m.\u001b[0m\u001b[0mget_scale\u001b[0m\u001b[0;34m(\u001b[0m\u001b[0;34m)\u001b[0m \u001b[0;34m==\u001b[0m \u001b[0;34m\"log\"\u001b[0m\u001b[0;34m:\u001b[0m\u001b[0;34m\u001b[0m\u001b[0;34m\u001b[0m\u001b[0m\n",
            "\u001b[0;32m/usr/local/lib/python3.7/dist-packages/pandas/core/indexing.py\u001b[0m in \u001b[0;36m__setitem__\u001b[0;34m(self, key, value)\u001b[0m\n\u001b[1;32m    668\u001b[0m \u001b[0;34m\u001b[0m\u001b[0m\n\u001b[1;32m    669\u001b[0m         \u001b[0miloc\u001b[0m \u001b[0;34m=\u001b[0m \u001b[0mself\u001b[0m \u001b[0;32mif\u001b[0m \u001b[0mself\u001b[0m\u001b[0;34m.\u001b[0m\u001b[0mname\u001b[0m \u001b[0;34m==\u001b[0m \u001b[0;34m\"iloc\"\u001b[0m \u001b[0;32melse\u001b[0m \u001b[0mself\u001b[0m\u001b[0;34m.\u001b[0m\u001b[0mobj\u001b[0m\u001b[0;34m.\u001b[0m\u001b[0miloc\u001b[0m\u001b[0;34m\u001b[0m\u001b[0;34m\u001b[0m\u001b[0m\n\u001b[0;32m--> 670\u001b[0;31m         \u001b[0miloc\u001b[0m\u001b[0;34m.\u001b[0m\u001b[0m_setitem_with_indexer\u001b[0m\u001b[0;34m(\u001b[0m\u001b[0mindexer\u001b[0m\u001b[0;34m,\u001b[0m \u001b[0mvalue\u001b[0m\u001b[0;34m)\u001b[0m\u001b[0;34m\u001b[0m\u001b[0;34m\u001b[0m\u001b[0m\n\u001b[0m\u001b[1;32m    671\u001b[0m \u001b[0;34m\u001b[0m\u001b[0m\n\u001b[1;32m    672\u001b[0m     \u001b[0;32mdef\u001b[0m \u001b[0m_validate_key\u001b[0m\u001b[0;34m(\u001b[0m\u001b[0mself\u001b[0m\u001b[0;34m,\u001b[0m \u001b[0mkey\u001b[0m\u001b[0;34m,\u001b[0m \u001b[0maxis\u001b[0m\u001b[0;34m:\u001b[0m \u001b[0mint\u001b[0m\u001b[0;34m)\u001b[0m\u001b[0;34m:\u001b[0m\u001b[0;34m\u001b[0m\u001b[0;34m\u001b[0m\u001b[0m\n",
            "\u001b[0;32m/usr/local/lib/python3.7/dist-packages/pandas/core/indexing.py\u001b[0m in \u001b[0;36m_setitem_with_indexer\u001b[0;34m(self, indexer, value)\u001b[0m\n\u001b[1;32m   1788\u001b[0m                 \u001b[0;31m# setting for extensionarrays that store dicts. Need to decide\u001b[0m\u001b[0;34m\u001b[0m\u001b[0;34m\u001b[0m\u001b[0;34m\u001b[0m\u001b[0m\n\u001b[1;32m   1789\u001b[0m                 \u001b[0;31m# if it's worth supporting that.\u001b[0m\u001b[0;34m\u001b[0m\u001b[0;34m\u001b[0m\u001b[0;34m\u001b[0m\u001b[0m\n\u001b[0;32m-> 1790\u001b[0;31m                 \u001b[0mvalue\u001b[0m \u001b[0;34m=\u001b[0m \u001b[0mself\u001b[0m\u001b[0;34m.\u001b[0m\u001b[0m_align_series\u001b[0m\u001b[0;34m(\u001b[0m\u001b[0mindexer\u001b[0m\u001b[0;34m,\u001b[0m \u001b[0mSeries\u001b[0m\u001b[0;34m(\u001b[0m\u001b[0mvalue\u001b[0m\u001b[0;34m)\u001b[0m\u001b[0;34m)\u001b[0m\u001b[0;34m\u001b[0m\u001b[0;34m\u001b[0m\u001b[0m\n\u001b[0m\u001b[1;32m   1791\u001b[0m \u001b[0;34m\u001b[0m\u001b[0m\n\u001b[1;32m   1792\u001b[0m             \u001b[0;32melif\u001b[0m \u001b[0misinstance\u001b[0m\u001b[0;34m(\u001b[0m\u001b[0mvalue\u001b[0m\u001b[0;34m,\u001b[0m \u001b[0mABCDataFrame\u001b[0m\u001b[0;34m)\u001b[0m\u001b[0;34m:\u001b[0m\u001b[0;34m\u001b[0m\u001b[0;34m\u001b[0m\u001b[0m\n",
            "\u001b[0;32m/usr/local/lib/python3.7/dist-packages/pandas/core/indexing.py\u001b[0m in \u001b[0;36m_align_series\u001b[0;34m(self, indexer, ser, multiindex_indexer)\u001b[0m\n\u001b[1;32m   1907\u001b[0m             \u001b[0;31m# series, so need to broadcast (see GH5206)\u001b[0m\u001b[0;34m\u001b[0m\u001b[0;34m\u001b[0m\u001b[0;34m\u001b[0m\u001b[0m\n\u001b[1;32m   1908\u001b[0m             \u001b[0;32mif\u001b[0m \u001b[0msum_aligners\u001b[0m \u001b[0;34m==\u001b[0m \u001b[0mself\u001b[0m\u001b[0;34m.\u001b[0m\u001b[0mndim\u001b[0m \u001b[0;32mand\u001b[0m \u001b[0mall\u001b[0m\u001b[0;34m(\u001b[0m\u001b[0mis_sequence\u001b[0m\u001b[0;34m(\u001b[0m\u001b[0m_\u001b[0m\u001b[0;34m)\u001b[0m \u001b[0;32mfor\u001b[0m \u001b[0m_\u001b[0m \u001b[0;32min\u001b[0m \u001b[0mindexer\u001b[0m\u001b[0;34m)\u001b[0m\u001b[0;34m:\u001b[0m\u001b[0;34m\u001b[0m\u001b[0;34m\u001b[0m\u001b[0m\n\u001b[0;32m-> 1909\u001b[0;31m                 \u001b[0mser\u001b[0m \u001b[0;34m=\u001b[0m \u001b[0mser\u001b[0m\u001b[0;34m.\u001b[0m\u001b[0mreindex\u001b[0m\u001b[0;34m(\u001b[0m\u001b[0mobj\u001b[0m\u001b[0;34m.\u001b[0m\u001b[0maxes\u001b[0m\u001b[0;34m[\u001b[0m\u001b[0;36m0\u001b[0m\u001b[0;34m]\u001b[0m\u001b[0;34m[\u001b[0m\u001b[0mindexer\u001b[0m\u001b[0;34m[\u001b[0m\u001b[0;36m0\u001b[0m\u001b[0;34m]\u001b[0m\u001b[0;34m]\u001b[0m\u001b[0;34m,\u001b[0m \u001b[0mcopy\u001b[0m\u001b[0;34m=\u001b[0m\u001b[0;32mTrue\u001b[0m\u001b[0;34m)\u001b[0m\u001b[0;34m.\u001b[0m\u001b[0m_values\u001b[0m\u001b[0;34m\u001b[0m\u001b[0;34m\u001b[0m\u001b[0m\n\u001b[0m\u001b[1;32m   1910\u001b[0m \u001b[0;34m\u001b[0m\u001b[0m\n\u001b[1;32m   1911\u001b[0m                 \u001b[0;31m# single indexer\u001b[0m\u001b[0;34m\u001b[0m\u001b[0;34m\u001b[0m\u001b[0;34m\u001b[0m\u001b[0m\n",
            "\u001b[0;32m/usr/local/lib/python3.7/dist-packages/pandas/core/series.py\u001b[0m in \u001b[0;36mreindex\u001b[0;34m(self, index, **kwargs)\u001b[0m\n\u001b[1;32m   4410\u001b[0m     )\n\u001b[1;32m   4411\u001b[0m     \u001b[0;32mdef\u001b[0m \u001b[0mreindex\u001b[0m\u001b[0;34m(\u001b[0m\u001b[0mself\u001b[0m\u001b[0;34m,\u001b[0m \u001b[0mindex\u001b[0m\u001b[0;34m=\u001b[0m\u001b[0;32mNone\u001b[0m\u001b[0;34m,\u001b[0m \u001b[0;34m**\u001b[0m\u001b[0mkwargs\u001b[0m\u001b[0;34m)\u001b[0m\u001b[0;34m:\u001b[0m\u001b[0;34m\u001b[0m\u001b[0;34m\u001b[0m\u001b[0m\n\u001b[0;32m-> 4412\u001b[0;31m         \u001b[0;32mreturn\u001b[0m \u001b[0msuper\u001b[0m\u001b[0;34m(\u001b[0m\u001b[0;34m)\u001b[0m\u001b[0;34m.\u001b[0m\u001b[0mreindex\u001b[0m\u001b[0;34m(\u001b[0m\u001b[0mindex\u001b[0m\u001b[0;34m=\u001b[0m\u001b[0mindex\u001b[0m\u001b[0;34m,\u001b[0m \u001b[0;34m**\u001b[0m\u001b[0mkwargs\u001b[0m\u001b[0;34m)\u001b[0m\u001b[0;34m\u001b[0m\u001b[0;34m\u001b[0m\u001b[0m\n\u001b[0m\u001b[1;32m   4413\u001b[0m \u001b[0;34m\u001b[0m\u001b[0m\n\u001b[1;32m   4414\u001b[0m     def drop(\n",
            "\u001b[0;32m/usr/local/lib/python3.7/dist-packages/pandas/core/generic.py\u001b[0m in \u001b[0;36mreindex\u001b[0;34m(self, *args, **kwargs)\u001b[0m\n\u001b[1;32m   4462\u001b[0m         \u001b[0;31m# perform the reindex on the axes\u001b[0m\u001b[0;34m\u001b[0m\u001b[0;34m\u001b[0m\u001b[0;34m\u001b[0m\u001b[0m\n\u001b[1;32m   4463\u001b[0m         return self._reindex_axes(\n\u001b[0;32m-> 4464\u001b[0;31m             \u001b[0maxes\u001b[0m\u001b[0;34m,\u001b[0m \u001b[0mlevel\u001b[0m\u001b[0;34m,\u001b[0m \u001b[0mlimit\u001b[0m\u001b[0;34m,\u001b[0m \u001b[0mtolerance\u001b[0m\u001b[0;34m,\u001b[0m \u001b[0mmethod\u001b[0m\u001b[0;34m,\u001b[0m \u001b[0mfill_value\u001b[0m\u001b[0;34m,\u001b[0m \u001b[0mcopy\u001b[0m\u001b[0;34m\u001b[0m\u001b[0;34m\u001b[0m\u001b[0m\n\u001b[0m\u001b[1;32m   4465\u001b[0m         ).__finalize__(self, method=\"reindex\")\n\u001b[1;32m   4466\u001b[0m \u001b[0;34m\u001b[0m\u001b[0m\n",
            "\u001b[0;32m/usr/local/lib/python3.7/dist-packages/pandas/core/generic.py\u001b[0m in \u001b[0;36m_reindex_axes\u001b[0;34m(self, axes, level, limit, tolerance, method, fill_value, copy)\u001b[0m\n\u001b[1;32m   4485\u001b[0m                 \u001b[0mfill_value\u001b[0m\u001b[0;34m=\u001b[0m\u001b[0mfill_value\u001b[0m\u001b[0;34m,\u001b[0m\u001b[0;34m\u001b[0m\u001b[0;34m\u001b[0m\u001b[0m\n\u001b[1;32m   4486\u001b[0m                 \u001b[0mcopy\u001b[0m\u001b[0;34m=\u001b[0m\u001b[0mcopy\u001b[0m\u001b[0;34m,\u001b[0m\u001b[0;34m\u001b[0m\u001b[0;34m\u001b[0m\u001b[0m\n\u001b[0;32m-> 4487\u001b[0;31m                 \u001b[0mallow_dups\u001b[0m\u001b[0;34m=\u001b[0m\u001b[0;32mFalse\u001b[0m\u001b[0;34m,\u001b[0m\u001b[0;34m\u001b[0m\u001b[0;34m\u001b[0m\u001b[0m\n\u001b[0m\u001b[1;32m   4488\u001b[0m             )\n\u001b[1;32m   4489\u001b[0m \u001b[0;34m\u001b[0m\u001b[0m\n",
            "\u001b[0;32m/usr/local/lib/python3.7/dist-packages/pandas/core/generic.py\u001b[0m in \u001b[0;36m_reindex_with_indexers\u001b[0;34m(self, reindexers, fill_value, copy, allow_dups)\u001b[0m\n\u001b[1;32m   4530\u001b[0m                 \u001b[0mfill_value\u001b[0m\u001b[0;34m=\u001b[0m\u001b[0mfill_value\u001b[0m\u001b[0;34m,\u001b[0m\u001b[0;34m\u001b[0m\u001b[0;34m\u001b[0m\u001b[0m\n\u001b[1;32m   4531\u001b[0m                 \u001b[0mallow_dups\u001b[0m\u001b[0;34m=\u001b[0m\u001b[0mallow_dups\u001b[0m\u001b[0;34m,\u001b[0m\u001b[0;34m\u001b[0m\u001b[0;34m\u001b[0m\u001b[0m\n\u001b[0;32m-> 4532\u001b[0;31m                 \u001b[0mcopy\u001b[0m\u001b[0;34m=\u001b[0m\u001b[0mcopy\u001b[0m\u001b[0;34m,\u001b[0m\u001b[0;34m\u001b[0m\u001b[0;34m\u001b[0m\u001b[0m\n\u001b[0m\u001b[1;32m   4533\u001b[0m             )\n\u001b[1;32m   4534\u001b[0m             \u001b[0;31m# If we've made a copy once, no need to make another one\u001b[0m\u001b[0;34m\u001b[0m\u001b[0;34m\u001b[0m\u001b[0;34m\u001b[0m\u001b[0m\n",
            "\u001b[0;32m/usr/local/lib/python3.7/dist-packages/pandas/core/internals/managers.py\u001b[0m in \u001b[0;36mreindex_indexer\u001b[0;34m(self, new_axis, indexer, axis, fill_value, allow_dups, copy, consolidate)\u001b[0m\n\u001b[1;32m   1283\u001b[0m         \u001b[0;31m# some axes don't allow reindexing with dups\u001b[0m\u001b[0;34m\u001b[0m\u001b[0;34m\u001b[0m\u001b[0;34m\u001b[0m\u001b[0m\n\u001b[1;32m   1284\u001b[0m         \u001b[0;32mif\u001b[0m \u001b[0;32mnot\u001b[0m \u001b[0mallow_dups\u001b[0m\u001b[0;34m:\u001b[0m\u001b[0;34m\u001b[0m\u001b[0;34m\u001b[0m\u001b[0m\n\u001b[0;32m-> 1285\u001b[0;31m             \u001b[0mself\u001b[0m\u001b[0;34m.\u001b[0m\u001b[0maxes\u001b[0m\u001b[0;34m[\u001b[0m\u001b[0maxis\u001b[0m\u001b[0;34m]\u001b[0m\u001b[0;34m.\u001b[0m\u001b[0m_can_reindex\u001b[0m\u001b[0;34m(\u001b[0m\u001b[0mindexer\u001b[0m\u001b[0;34m)\u001b[0m\u001b[0;34m\u001b[0m\u001b[0;34m\u001b[0m\u001b[0m\n\u001b[0m\u001b[1;32m   1286\u001b[0m \u001b[0;34m\u001b[0m\u001b[0m\n\u001b[1;32m   1287\u001b[0m         \u001b[0;32mif\u001b[0m \u001b[0maxis\u001b[0m \u001b[0;34m>=\u001b[0m \u001b[0mself\u001b[0m\u001b[0;34m.\u001b[0m\u001b[0mndim\u001b[0m\u001b[0;34m:\u001b[0m\u001b[0;34m\u001b[0m\u001b[0;34m\u001b[0m\u001b[0m\n",
            "\u001b[0;32m/usr/local/lib/python3.7/dist-packages/pandas/core/indexes/base.py\u001b[0m in \u001b[0;36m_can_reindex\u001b[0;34m(self, indexer)\u001b[0m\n\u001b[1;32m   3290\u001b[0m         \u001b[0;31m# trying to reindex on an axis with duplicates\u001b[0m\u001b[0;34m\u001b[0m\u001b[0;34m\u001b[0m\u001b[0;34m\u001b[0m\u001b[0m\n\u001b[1;32m   3291\u001b[0m         \u001b[0;32mif\u001b[0m \u001b[0;32mnot\u001b[0m \u001b[0mself\u001b[0m\u001b[0;34m.\u001b[0m\u001b[0mis_unique\u001b[0m \u001b[0;32mand\u001b[0m \u001b[0mlen\u001b[0m\u001b[0;34m(\u001b[0m\u001b[0mindexer\u001b[0m\u001b[0;34m)\u001b[0m\u001b[0;34m:\u001b[0m\u001b[0;34m\u001b[0m\u001b[0;34m\u001b[0m\u001b[0m\n\u001b[0;32m-> 3292\u001b[0;31m             \u001b[0;32mraise\u001b[0m \u001b[0mValueError\u001b[0m\u001b[0;34m(\u001b[0m\u001b[0;34m\"cannot reindex from a duplicate axis\"\u001b[0m\u001b[0;34m)\u001b[0m\u001b[0;34m\u001b[0m\u001b[0;34m\u001b[0m\u001b[0m\n\u001b[0m\u001b[1;32m   3293\u001b[0m \u001b[0;34m\u001b[0m\u001b[0m\n\u001b[1;32m   3294\u001b[0m     \u001b[0;32mdef\u001b[0m \u001b[0mreindex\u001b[0m\u001b[0;34m(\u001b[0m\u001b[0mself\u001b[0m\u001b[0;34m,\u001b[0m \u001b[0mtarget\u001b[0m\u001b[0;34m,\u001b[0m \u001b[0mmethod\u001b[0m\u001b[0;34m=\u001b[0m\u001b[0;32mNone\u001b[0m\u001b[0;34m,\u001b[0m \u001b[0mlevel\u001b[0m\u001b[0;34m=\u001b[0m\u001b[0;32mNone\u001b[0m\u001b[0;34m,\u001b[0m \u001b[0mlimit\u001b[0m\u001b[0;34m=\u001b[0m\u001b[0;32mNone\u001b[0m\u001b[0;34m,\u001b[0m \u001b[0mtolerance\u001b[0m\u001b[0;34m=\u001b[0m\u001b[0;32mNone\u001b[0m\u001b[0;34m)\u001b[0m\u001b[0;34m:\u001b[0m\u001b[0;34m\u001b[0m\u001b[0;34m\u001b[0m\u001b[0m\n",
            "\u001b[0;31mValueError\u001b[0m: cannot reindex from a duplicate axis"
          ]
        },
        {
          "output_type": "display_data",
          "data": {
            "image/png": "[encoded data removed]",
            "text/plain": [
              "<Figure size 1152x432 with 1 Axes>"
            ]
          },
          "metadata": {
            "needs_background": "light"
          }
        }
      ]
    }
  ]
}